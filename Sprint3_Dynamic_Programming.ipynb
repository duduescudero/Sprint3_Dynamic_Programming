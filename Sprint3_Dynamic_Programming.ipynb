{
  "nbformat": 4,
  "nbformat_minor": 0,
  "metadata": {
    "colab": {
      "provenance": []
    },
    "kernelspec": {
      "name": "python3",
      "display_name": "Python 3"
    },
    "language_info": {
      "name": "python"
    }
  },
  "cells": [
    {
      "cell_type": "markdown",
      "source": [
        "# Dynamic Programming - Controle de Consumo de Insumos\n",
        "\n",
        "Este notebook simula o **consumo diário de insumos** (reagentes e descartáveis) em unidades de diagnóstico,\n",
        "organizando os dados de forma eficiente com **estruturas de dados e algoritmos clássicos**.\n",
        "\n",
        "---\n",
        "\n",
        "### Objetivos\n",
        "- Fila → registrar consumo diário em ordem cronológica.  \n",
        "- Pilha → simular consultas em ordem inversa.  \n",
        "- Busca → localizar insumos específicos (sequencial e binária).  \n",
        "- Ordenação → organizar insumos por consumo ou validade (Merge Sort e Quick Sort).  \n",
        "- Relatório → consolidar resultados e explicar como cada algoritmo auxilia no problema.\n"
      ],
      "metadata": {
        "id": "d0ZREupwX2hx"
      }
    },
    {
      "cell_type": "code",
      "source": [
        "# Dados de estoque inicial\n",
        "estoque = {\n",
        "    \"Hospital A\": {\n",
        "        \"Máscara\": {\"atual\": 100, \"ideal\": 150},\n",
        "        \"Luva\": {\"atual\": 200, \"ideal\": 200},\n",
        "        \"Álcool\": {\"atual\": 80, \"ideal\": 100}\n",
        "    },\n",
        "    \"Hospital B\": {\n",
        "        \"Máscara\": {\"atual\": 50, \"ideal\": 150},\n",
        "        \"Luva\": {\"atual\": 300, \"ideal\": 200},\n",
        "        \"Álcool\": {\"atual\": 120, \"ideal\": 100}\n",
        "    },\n",
        "    \"Hospital C\": {\n",
        "        \"Máscara\": {\"atual\": 160, \"ideal\": 150},\n",
        "        \"Luva\": {\"atual\": 190, \"ideal\": 200},\n",
        "        \"Álcool\": {\"atual\": 100, \"ideal\": 100}\n",
        "    }\n",
        "}\n"
      ],
      "metadata": {
        "id": "dvIf5X7aX3xE"
      },
      "execution_count": 3,
      "outputs": []
    },
    {
      "cell_type": "code",
      "source": [
        "# Mostrar estoque de uma unidade\n",
        "def mostrar_estoque(local):\n",
        "    if local not in estoque:\n",
        "        print(\"Unidade não encontrada.\")\n",
        "        return\n",
        "    print(f\"\\nEstoque do {local}:\")\n",
        "    for produto, valores in estoque[local].items():\n",
        "        status = \"OK\"\n",
        "        if valores[\"atual\"] < valores[\"ideal\"]:\n",
        "            status = \"EM FALTA\"\n",
        "        elif valores[\"atual\"] > valores[\"ideal\"]:\n",
        "            status = \"EM EXCESSO\"\n",
        "        print(f\"- {produto}: {valores['atual']} (Ideal: {valores['ideal']}) {status}\")\n",
        "\n",
        "\n",
        "# Listar produtos em falta\n",
        "def listar_em_falta():\n",
        "    print(\"\\nProdutos em falta:\")\n",
        "    encontrou = False\n",
        "    for local, itens in estoque.items():\n",
        "        for produto, valores in itens.items():\n",
        "            if valores[\"atual\"] < valores[\"ideal\"]:\n",
        "                print(f\"- {produto} em {local}: {valores['atual']} (Ideal: {valores['ideal']})\")\n",
        "                encontrou = True\n",
        "    if not encontrou:\n",
        "        print(\"Nenhum produto em falta.\")\n",
        "\n",
        "\n",
        "# Listar produtos em excesso\n",
        "def listar_em_excesso():\n",
        "    print(\"\\nProdutos em excesso:\")\n",
        "    encontrou = False\n",
        "    for local, itens in estoque.items():\n",
        "        for produto, valores in itens.items():\n",
        "            if valores[\"atual\"] > valores[\"ideal\"]:\n",
        "                print(f\"- {produto} em {local}: {valores['atual']} (Ideal: {valores['ideal']})\")\n",
        "                encontrou = True\n",
        "    if not encontrou:\n",
        "        print(\"Nenhum produto em excesso.\")\n"
      ],
      "metadata": {
        "id": "acEa_IcpX6oC"
      },
      "execution_count": 8,
      "outputs": []
    },
    {
      "cell_type": "code",
      "source": [
        "from collections import deque\n",
        "\n",
        "# Simulando consumo diário com fila e pilha\n",
        "consumo_diario = [\n",
        "    {\"insumo\": \"Máscara\", \"quantidade\": 10},\n",
        "    {\"insumo\": \"Luva\", \"quantidade\": 15},\n",
        "    {\"insumo\": \"Álcool\", \"quantidade\": 5},\n",
        "    {\"insumo\": \"Máscara\", \"quantidade\": 20},\n",
        "]\n",
        "\n",
        "# Fila (ordem cronológica)\n",
        "fila_consumo = deque()\n",
        "for registro in consumo_diario:\n",
        "    fila_consumo.append(registro)\n",
        "\n",
        "print(\"Fila (ordem cronológica):\")\n",
        "print(list(fila_consumo))\n",
        "\n",
        "# Pilha (últimos consumos primeiro)\n",
        "pilha_consumo = []\n",
        "for registro in consumo_diario:\n",
        "    pilha_consumo.append(registro)\n",
        "\n",
        "print(\"\\nPilha (últimos consumos primeiro):\")\n",
        "print(list(reversed(pilha_consumo)))\n"
      ],
      "metadata": {
        "colab": {
          "base_uri": "https://localhost:8080/"
        },
        "id": "vQCk4tvcX7lq",
        "outputId": "a0d30a25-f991-4ccd-cdbf-fc79a7dd3ecb"
      },
      "execution_count": 5,
      "outputs": [
        {
          "output_type": "stream",
          "name": "stdout",
          "text": [
            "Fila (ordem cronológica):\n",
            "[{'insumo': 'Máscara', 'quantidade': 10}, {'insumo': 'Luva', 'quantidade': 15}, {'insumo': 'Álcool', 'quantidade': 5}, {'insumo': 'Máscara', 'quantidade': 20}]\n",
            "\n",
            "Pilha (últimos consumos primeiro):\n",
            "[{'insumo': 'Máscara', 'quantidade': 20}, {'insumo': 'Álcool', 'quantidade': 5}, {'insumo': 'Luva', 'quantidade': 15}, {'insumo': 'Máscara', 'quantidade': 10}]\n"
          ]
        }
      ]
    },
    {
      "cell_type": "code",
      "source": [
        "# Busca sequencial\n",
        "def busca_sequencial(lista, insumo):\n",
        "    for i, item in enumerate(lista):\n",
        "        if item[\"insumo\"] == insumo:\n",
        "            return i, item\n",
        "    return -1, None\n",
        "\n",
        "# Busca binária (lista precisa estar ordenada)\n",
        "def busca_binaria(lista, insumo):\n",
        "    lista_ordenada = sorted(lista, key=lambda x: x[\"insumo\"])\n",
        "    esquerda, direita = 0, len(lista_ordenada) - 1\n",
        "    while esquerda <= direita:\n",
        "        meio = (esquerda + direita) // 2\n",
        "        if lista_ordenada[meio][\"insumo\"] == insumo:\n",
        "            return meio, lista_ordenada[meio]\n",
        "        elif lista_ordenada[meio][\"insumo\"] < insumo:\n",
        "            esquerda = meio + 1\n",
        "        else:\n",
        "            direita = meio - 1\n",
        "    return -1, None\n",
        "\n",
        "print(\"Busca sequencial por Luva:\", busca_sequencial(consumo_diario, \"Luva\"))\n",
        "print(\"Busca binária por Luva:\", busca_binaria(consumo_diario, \"Luva\"))\n"
      ],
      "metadata": {
        "colab": {
          "base_uri": "https://localhost:8080/"
        },
        "id": "5tctTCsbX8cq",
        "outputId": "fd57acf7-9d7e-4d9d-c5e2-4ea3a94a580a"
      },
      "execution_count": 6,
      "outputs": [
        {
          "output_type": "stream",
          "name": "stdout",
          "text": [
            "Busca sequencial por Luva: (1, {'insumo': 'Luva', 'quantidade': 15})\n",
            "Busca binária por Luva: (0, {'insumo': 'Luva', 'quantidade': 15})\n"
          ]
        }
      ]
    },
    {
      "cell_type": "code",
      "source": [
        "# Merge Sort\n",
        "def merge_sort(lista):\n",
        "    if len(lista) <= 1:\n",
        "        return lista\n",
        "    meio = len(lista) // 2\n",
        "    esquerda = merge_sort(lista[:meio])\n",
        "    direita = merge_sort(lista[meio:])\n",
        "    return merge(esquerda, direita)\n",
        "\n",
        "def merge(esquerda, direita):\n",
        "    resultado = []\n",
        "    i = j = 0\n",
        "    while i < len(esquerda) and j < len(direita):\n",
        "        if esquerda[i][\"quantidade\"] <= direita[j][\"quantidade\"]:\n",
        "            resultado.append(esquerda[i])\n",
        "            i += 1\n",
        "        else:\n",
        "            resultado.append(direita[j])\n",
        "            j += 1\n",
        "    resultado.extend(esquerda[i:])\n",
        "    resultado.extend(direita[j:])\n",
        "    return resultado\n",
        "\n",
        "# Quick Sort\n",
        "def quick_sort(lista):\n",
        "    if len(lista) <= 1:\n",
        "        return lista\n",
        "    pivo = lista[0][\"quantidade\"]\n",
        "    menores = [x for x in lista[1:] if x[\"quantidade\"] <= pivo]\n",
        "    maiores = [x for x in lista[1:] if x[\"quantidade\"] > pivo]\n",
        "    return quick_sort(menores) + [lista[0]] + quick_sort(maiores)\n",
        "\n",
        "print(\"Ordenado com Merge Sort:\", merge_sort(consumo_diario))\n",
        "print(\"Ordenado com Quick Sort:\", quick_sort(consumo_diario))\n"
      ],
      "metadata": {
        "colab": {
          "base_uri": "https://localhost:8080/"
        },
        "id": "7JVuH_GRX9U3",
        "outputId": "2c9e1698-080d-4725-d218-4e7059e0acfd"
      },
      "execution_count": 7,
      "outputs": [
        {
          "output_type": "stream",
          "name": "stdout",
          "text": [
            "Ordenado com Merge Sort: [{'insumo': 'Álcool', 'quantidade': 5}, {'insumo': 'Máscara', 'quantidade': 10}, {'insumo': 'Luva', 'quantidade': 15}, {'insumo': 'Máscara', 'quantidade': 20}]\n",
            "Ordenado com Quick Sort: [{'insumo': 'Álcool', 'quantidade': 5}, {'insumo': 'Máscara', 'quantidade': 10}, {'insumo': 'Luva', 'quantidade': 15}, {'insumo': 'Máscara', 'quantidade': 20}]\n"
          ]
        }
      ]
    },
    {
      "cell_type": "markdown",
      "source": [
        "# Relatório Final\n",
        "\n",
        "### Estruturas Implementadas\n",
        "- **Fila** → registra o consumo em ordem cronológica.  \n",
        "- **Pilha** → simula consultas em ordem inversa (últimos consumos primeiro).  \n",
        "- **Busca Sequencial e Binária** → localizam insumos específicos no registro de consumo.  \n",
        "- **Ordenação (Merge Sort e Quick Sort)** → organizam os insumos de acordo com a quantidade consumida.  \n",
        "\n",
        "### Conclusão\n",
        "Essas estruturas de dados permitem maior eficiência no **controle de estoque** e auxiliam na **previsão de reposição**,\n",
        "reduzindo erros de registro manual e garantindo que os materiais essenciais estejam sempre disponíveis.\n"
      ],
      "metadata": {
        "id": "WtauMG88YArb"
      }
    }
  ]
}